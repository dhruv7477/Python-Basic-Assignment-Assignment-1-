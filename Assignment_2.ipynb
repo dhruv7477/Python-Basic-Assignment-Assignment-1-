{
 "cells": [
  {
   "cell_type": "raw",
   "metadata": {},
   "source": [
    "1. What are the two values of the Boolean data type? How do you write them?\n",
    "Ans 1. Boolean data type has two values i.e. True and False. Generally, we write them to represent the truth values of the expressions. For example if 2>1 is True and 1>2 is False."
   ]
  },
  {
   "cell_type": "raw",
   "metadata": {},
   "source": [
    "2. What are the three different type of Boolean operators?\n",
    "Ans 2. Three types of Boolean operators are \"AND\",\"OR\" and \"NOT\"."
   ]
  },
  {
   "cell_type": "raw",
   "metadata": {},
   "source": [
    "3. Make a list of each Boolean operator's truth tables (i.e. every possible combination of Boolean values for the operator and what it evaluate).\n",
    "Ans 3.For AND truth table:-\n",
    "Statement 1    Statement 2    Result\n",
    "True           True           True\n",
    "True           False          False\n",
    "False          True           False\n",
    "False          False          False\n",
    "\n",
    "For OR truth table:-\n",
    "Statement 1    Statement 2    Result\n",
    "True           True           True\n",
    "True           False          True\n",
    "False          True           True\n",
    "False          False          False\n",
    "\n",
    "For NOT truth table:-\n",
    "Statement    Result\n",
    "True         False\n",
    "False        True"
   ]
  },
  {
   "cell_type": "raw",
   "metadata": {},
   "source": [
    "4. What are the values of the following expressions?\n",
    "(5>4) and (3 == 5)\n",
    "not (5>4)\n",
    "(5>4) or (3==5)\n",
    "not((5>4) or (3==5))\n",
    "(True and True) and (True == False)\n",
    "(not False) or (not True)\n",
    "\n",
    "Ans 4. \n",
    "(5>4) and (3 == 5) = False\n",
    "not (5>4) = False\n",
    "(5>4) or (3==5) = True\n",
    "not((5>4) or (3==5)) = False\n",
    "(True and True) and (True == False) = False\n",
    "(not False) or (not True) = True"
   ]
  },
  {
   "cell_type": "raw",
   "metadata": {},
   "source": [
    "5. What are the six comparison operators ?\n",
    "Ans 5. The six types of comparison operators are:-\n",
    "(1) Equal to(==)\n",
    "(2) Not Equal to(!=)\n",
    "(3) Greater than(>)\n",
    "(4) Greater than or equal to(>=)\n",
    "(5) less than(<)\n",
    "(6) less than or equal to(<=)"
   ]
  },
  {
   "cell_type": "raw",
   "metadata": {},
   "source": [
    "6. How do you tell the difference between the equal to and assignment operators? Describe a condition and when you would use one.\n",
    "Ans 6. The assignment operator is denoted by '=' and the equal to operator is denoted by '=='.'=' operator is used to assign value to a variable and '==' is used to compare two variable or constants."
   ]
  },
  {
   "cell_type": "raw",
   "metadata": {},
   "source": [
    "7. Identify the three blocks in this code:\n",
    "spam=0\n",
    "if spam == 10:\n",
    "print('eggs')\n",
    "if spam>5:\n",
    "print('bacon')\n",
    "else:\n",
    "print('ham')\n",
    "print('spam')\n",
    "print('spam')\n",
    "Ans 7. Look below:-"
   ]
  },
  {
   "cell_type": "code",
   "execution_count": 2,
   "metadata": {},
   "outputs": [
    {
     "name": "stdout",
     "output_type": "stream",
     "text": [
      "ham\n",
      "spam\n",
      "spam\n"
     ]
    }
   ],
   "source": [
    "spam=0\n",
    "# Class definition\n",
    "\n",
    "if spam == 10:\n",
    "    print('eggs')\n",
    "# If statement\n",
    "\n",
    "if spam>5:\n",
    "    print('bacon')\n",
    "else:\n",
    "    print('ham')\n",
    "    print('spam')\n",
    "# If else statement\n",
    "    \n",
    "print('spam')\n",
    "#Function Body"
   ]
  },
  {
   "cell_type": "raw",
   "metadata": {},
   "source": [
    "8. Write code that prints Hello if 1 is stored in spam, prints Howdy if 2 is stored in spam, and prints Greetings! if anything else is stored in spam.\n",
    "Ans 8. Given below!"
   ]
  },
  {
   "cell_type": "code",
   "execution_count": 24,
   "metadata": {},
   "outputs": [
    {
     "name": "stdout",
     "output_type": "stream",
     "text": [
      "Hello\n",
      "Howdy\n",
      "Greetings!\n"
     ]
    }
   ],
   "source": [
    "spam = 0\n",
    "spam += 1\n",
    "while spam < 10:\n",
    "    if spam == 1:\n",
    "        spam += 1\n",
    "        print(\"Hello\")        \n",
    "        if spam == 2:\n",
    "            spam += 1\n",
    "            print(\"Howdy\")\n",
    "    else:\n",
    "        print(\"Greetings!\")\n",
    "        break"
   ]
  },
  {
   "cell_type": "raw",
   "metadata": {},
   "source": [
    "9. If your programme is stuck in an endless loop, what keys you'll press?\n",
    "Ans 9. ESC +ii"
   ]
  },
  {
   "cell_type": "raw",
   "metadata": {},
   "source": [
    "10. How can you tell the difference between break and continue ?\n",
    "Ans 10. Break is used to terminate the entire running loop and move on to the next one. Whereas, Continue is used just to skip the current iteration and continue from the next one."
   ]
  },
  {
   "cell_type": "raw",
   "metadata": {},
   "source": [
    "11. In a for loop, what is the difference between range(10), range(0,10), and range(0,10,1)?\n",
    "Ans 11. The only difference is of syntax. All of the above values gives the same values!"
   ]
  },
  {
   "cell_type": "raw",
   "metadata": {},
   "source": [
    "12. Write a short program that prints the numbers 1 to 10 using a for loop. Then write an equivalent program that prints the numbers 1 to 10 using a for loop. Then write an equivalent program that prints the numbers 1 to 10 using a while loop.\n",
    "Ans 12. Both programmes are given below:-"
   ]
  },
  {
   "cell_type": "code",
   "execution_count": 25,
   "metadata": {},
   "outputs": [
    {
     "name": "stdout",
     "output_type": "stream",
     "text": [
      "1\n",
      "2\n",
      "3\n",
      "4\n",
      "5\n",
      "6\n",
      "7\n",
      "8\n",
      "9\n",
      "10\n"
     ]
    }
   ],
   "source": [
    "for i in range(1,11):\n",
    "    print(i)"
   ]
  },
  {
   "cell_type": "code",
   "execution_count": 28,
   "metadata": {},
   "outputs": [
    {
     "name": "stdout",
     "output_type": "stream",
     "text": [
      "1\n",
      "2\n",
      "3\n",
      "4\n",
      "5\n",
      "6\n",
      "7\n",
      "8\n",
      "9\n",
      "10\n"
     ]
    }
   ],
   "source": [
    "i = 1\n",
    "while i < 11 :\n",
    "    print(i)\n",
    "    i +=1"
   ]
  },
  {
   "cell_type": "raw",
   "metadata": {},
   "source": [
    "13. If you had a function named bacon() inside a module named spam, how would you call it after importing spam?\n",
    "Ans 13. First we will import module by writing 'import spam'. Then we can call the function by writing 'spam.bacon()'."
   ]
  }
 ],
 "metadata": {
  "kernelspec": {
   "display_name": "Python 3",
   "language": "python",
   "name": "python3"
  },
  "language_info": {
   "codemirror_mode": {
    "name": "ipython",
    "version": 3
   },
   "file_extension": ".py",
   "mimetype": "text/x-python",
   "name": "python",
   "nbconvert_exporter": "python",
   "pygments_lexer": "ipython3",
   "version": "3.8.5"
  }
 },
 "nbformat": 4,
 "nbformat_minor": 4
}
